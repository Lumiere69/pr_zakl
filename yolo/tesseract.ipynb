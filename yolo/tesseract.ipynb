{
 "cells": [
  {
   "cell_type": "code",
   "outputs": [
    {
     "name": "stdout",
     "output_type": "stream",
     "text": [
      "Collecting easyocr\r\n",
      "  Downloading easyocr-1.7.1-py3-none-any.whl.metadata (11 kB)\r\n",
      "Requirement already satisfied: torch in /home/dushn1la/anaconda3/envs/yolo/lib/python3.8/site-packages (from easyocr) (2.2.1)\r\n",
      "Requirement already satisfied: torchvision>=0.5 in /home/dushn1la/anaconda3/envs/yolo/lib/python3.8/site-packages (from easyocr) (0.17.1)\r\n",
      "Collecting opencv-python-headless (from easyocr)\r\n",
      "  Downloading opencv_python_headless-4.9.0.80-cp37-abi3-manylinux_2_17_x86_64.manylinux2014_x86_64.whl.metadata (20 kB)\r\n",
      "Requirement already satisfied: scipy in /home/dushn1la/anaconda3/envs/yolo/lib/python3.8/site-packages (from easyocr) (1.10.1)\r\n",
      "Requirement already satisfied: numpy in /home/dushn1la/anaconda3/envs/yolo/lib/python3.8/site-packages (from easyocr) (1.24.4)\r\n",
      "Requirement already satisfied: Pillow in /home/dushn1la/anaconda3/envs/yolo/lib/python3.8/site-packages (from easyocr) (10.2.0)\r\n",
      "Collecting scikit-image (from easyocr)\r\n",
      "  Downloading scikit_image-0.21.0-cp38-cp38-manylinux_2_17_x86_64.manylinux2014_x86_64.whl.metadata (14 kB)\r\n",
      "Collecting python-bidi (from easyocr)\r\n",
      "  Downloading python_bidi-0.4.2-py2.py3-none-any.whl (30 kB)\r\n",
      "Requirement already satisfied: PyYAML in /home/dushn1la/anaconda3/envs/yolo/lib/python3.8/site-packages (from easyocr) (6.0.1)\r\n",
      "Collecting Shapely (from easyocr)\r\n",
      "  Downloading shapely-2.0.3-cp38-cp38-manylinux_2_17_x86_64.manylinux2014_x86_64.whl.metadata (7.0 kB)\r\n",
      "Collecting pyclipper (from easyocr)\r\n",
      "  Downloading pyclipper-1.3.0.post5-cp38-cp38-manylinux_2_5_x86_64.manylinux1_x86_64.whl.metadata (9.0 kB)\r\n",
      "Collecting ninja (from easyocr)\r\n",
      "  Downloading ninja-1.11.1.1-py2.py3-none-manylinux1_x86_64.manylinux_2_5_x86_64.whl.metadata (5.3 kB)\r\n",
      "Requirement already satisfied: filelock in /home/dushn1la/anaconda3/envs/yolo/lib/python3.8/site-packages (from torch->easyocr) (3.13.1)\r\n",
      "Requirement already satisfied: typing-extensions>=4.8.0 in /home/dushn1la/anaconda3/envs/yolo/lib/python3.8/site-packages (from torch->easyocr) (4.9.0)\r\n",
      "Requirement already satisfied: sympy in /home/dushn1la/anaconda3/envs/yolo/lib/python3.8/site-packages (from torch->easyocr) (1.12)\r\n",
      "Requirement already satisfied: networkx in /home/dushn1la/anaconda3/envs/yolo/lib/python3.8/site-packages (from torch->easyocr) (3.1)\r\n",
      "Requirement already satisfied: jinja2 in /home/dushn1la/anaconda3/envs/yolo/lib/python3.8/site-packages (from torch->easyocr) (3.1.3)\r\n",
      "Requirement already satisfied: fsspec in /home/dushn1la/anaconda3/envs/yolo/lib/python3.8/site-packages (from torch->easyocr) (2024.2.0)\r\n",
      "Requirement already satisfied: nvidia-cuda-nvrtc-cu12==12.1.105 in /home/dushn1la/anaconda3/envs/yolo/lib/python3.8/site-packages (from torch->easyocr) (12.1.105)\r\n",
      "Requirement already satisfied: nvidia-cuda-runtime-cu12==12.1.105 in /home/dushn1la/anaconda3/envs/yolo/lib/python3.8/site-packages (from torch->easyocr) (12.1.105)\r\n",
      "Requirement already satisfied: nvidia-cuda-cupti-cu12==12.1.105 in /home/dushn1la/anaconda3/envs/yolo/lib/python3.8/site-packages (from torch->easyocr) (12.1.105)\r\n",
      "Requirement already satisfied: nvidia-cudnn-cu12==8.9.2.26 in /home/dushn1la/anaconda3/envs/yolo/lib/python3.8/site-packages (from torch->easyocr) (8.9.2.26)\r\n",
      "Requirement already satisfied: nvidia-cublas-cu12==12.1.3.1 in /home/dushn1la/anaconda3/envs/yolo/lib/python3.8/site-packages (from torch->easyocr) (12.1.3.1)\r\n",
      "Requirement already satisfied: nvidia-cufft-cu12==11.0.2.54 in /home/dushn1la/anaconda3/envs/yolo/lib/python3.8/site-packages (from torch->easyocr) (11.0.2.54)\r\n",
      "Requirement already satisfied: nvidia-curand-cu12==10.3.2.106 in /home/dushn1la/anaconda3/envs/yolo/lib/python3.8/site-packages (from torch->easyocr) (10.3.2.106)\r\n",
      "Requirement already satisfied: nvidia-cusolver-cu12==11.4.5.107 in /home/dushn1la/anaconda3/envs/yolo/lib/python3.8/site-packages (from torch->easyocr) (11.4.5.107)\r\n",
      "Requirement already satisfied: nvidia-cusparse-cu12==12.1.0.106 in /home/dushn1la/anaconda3/envs/yolo/lib/python3.8/site-packages (from torch->easyocr) (12.1.0.106)\r\n",
      "Requirement already satisfied: nvidia-nccl-cu12==2.19.3 in /home/dushn1la/anaconda3/envs/yolo/lib/python3.8/site-packages (from torch->easyocr) (2.19.3)\r\n",
      "Requirement already satisfied: nvidia-nvtx-cu12==12.1.105 in /home/dushn1la/anaconda3/envs/yolo/lib/python3.8/site-packages (from torch->easyocr) (12.1.105)\r\n",
      "Requirement already satisfied: triton==2.2.0 in /home/dushn1la/anaconda3/envs/yolo/lib/python3.8/site-packages (from torch->easyocr) (2.2.0)\r\n",
      "Requirement already satisfied: nvidia-nvjitlink-cu12 in /home/dushn1la/anaconda3/envs/yolo/lib/python3.8/site-packages (from nvidia-cusolver-cu12==11.4.5.107->torch->easyocr) (12.3.101)\r\n",
      "Requirement already satisfied: six in /home/dushn1la/anaconda3/envs/yolo/lib/python3.8/site-packages (from python-bidi->easyocr) (1.16.0)\r\n",
      "Collecting imageio>=2.27 (from scikit-image->easyocr)\r\n",
      "  Downloading imageio-2.34.0-py3-none-any.whl.metadata (4.9 kB)\r\n",
      "Collecting tifffile>=2022.8.12 (from scikit-image->easyocr)\r\n",
      "  Downloading tifffile-2023.7.10-py3-none-any.whl.metadata (31 kB)\r\n",
      "Collecting PyWavelets>=1.1.1 (from scikit-image->easyocr)\r\n",
      "  Downloading PyWavelets-1.4.1-cp38-cp38-manylinux_2_17_x86_64.manylinux2014_x86_64.whl.metadata (1.9 kB)\r\n",
      "Requirement already satisfied: packaging>=21 in /home/dushn1la/anaconda3/envs/yolo/lib/python3.8/site-packages (from scikit-image->easyocr) (23.1)\r\n",
      "Collecting lazy_loader>=0.2 (from scikit-image->easyocr)\r\n",
      "  Downloading lazy_loader-0.3-py3-none-any.whl.metadata (4.3 kB)\r\n",
      "Requirement already satisfied: MarkupSafe>=2.0 in /home/dushn1la/anaconda3/envs/yolo/lib/python3.8/site-packages (from jinja2->torch->easyocr) (2.1.3)\r\n",
      "Requirement already satisfied: mpmath>=0.19 in /home/dushn1la/anaconda3/envs/yolo/lib/python3.8/site-packages (from sympy->torch->easyocr) (1.3.0)\r\n",
      "Downloading easyocr-1.7.1-py3-none-any.whl (2.9 MB)\r\n",
      "\u001B[2K   \u001B[90m━━━━━━━━━━━━━━━━━━━━━━━━━━━━━━━━━━━━━━━━\u001B[0m \u001B[32m2.9/2.9 MB\u001B[0m \u001B[31m1.3 MB/s\u001B[0m eta \u001B[36m0:00:00\u001B[0m00:01\u001B[0m00:01\u001B[0m0m\r\n",
      "\u001B[?25hDownloading ninja-1.11.1.1-py2.py3-none-manylinux1_x86_64.manylinux_2_5_x86_64.whl (307 kB)\r\n",
      "\u001B[2K   \u001B[90m━━━━━━━━━━━━━━━━━━━━━━━━━━━━━━━━━━━━━━━━\u001B[0m \u001B[32m307.2/307.2 kB\u001B[0m \u001B[31m1.8 MB/s\u001B[0m eta \u001B[36m0:00:00\u001B[0ma \u001B[36m0:00:01\u001B[0m\r\n",
      "\u001B[?25hDownloading opencv_python_headless-4.9.0.80-cp37-abi3-manylinux_2_17_x86_64.manylinux2014_x86_64.whl (49.6 MB)\r\n",
      "\u001B[2K   \u001B[90m━━━━━━━━━━━━━━━━━━━━━━━━━━━━━━━━━━━━━━━━\u001B[0m \u001B[32m49.6/49.6 MB\u001B[0m \u001B[31m3.3 MB/s\u001B[0m eta \u001B[36m0:00:00\u001B[0m00:01\u001B[0m00:01\u001B[0m\r\n",
      "\u001B[?25hDownloading pyclipper-1.3.0.post5-cp38-cp38-manylinux_2_5_x86_64.manylinux1_x86_64.whl (682 kB)\r\n",
      "\u001B[2K   \u001B[90m━━━━━━━━━━━━━━━━━━━━━━━━━━━━━━━━━━━━━━━━\u001B[0m \u001B[32m682.3/682.3 kB\u001B[0m \u001B[31m4.3 MB/s\u001B[0m eta \u001B[36m0:00:00\u001B[0ma \u001B[36m0:00:01\u001B[0m\r\n",
      "\u001B[?25hDownloading scikit_image-0.21.0-cp38-cp38-manylinux_2_17_x86_64.manylinux2014_x86_64.whl (13.9 MB)\r\n",
      "\u001B[2K   \u001B[90m━━━━━━━━━━━━━━━━━━━━━━━━━━━━━━━━━━━━━━━━\u001B[0m \u001B[32m13.9/13.9 MB\u001B[0m \u001B[31m3.5 MB/s\u001B[0m eta \u001B[36m0:00:00\u001B[0m00:01\u001B[0m00:01\u001B[0m\r\n",
      "\u001B[?25hDownloading shapely-2.0.3-cp38-cp38-manylinux_2_17_x86_64.manylinux2014_x86_64.whl (2.5 MB)\r\n",
      "\u001B[2K   \u001B[90m━━━━━━━━━━━━━━━━━━━━━━━━━━━━━━━━━━━━━━━━\u001B[0m \u001B[32m2.5/2.5 MB\u001B[0m \u001B[31m3.5 MB/s\u001B[0m eta \u001B[36m0:00:00\u001B[0m00:01\u001B[0m00:01\u001B[0m\r\n",
      "\u001B[?25hDownloading imageio-2.34.0-py3-none-any.whl (313 kB)\r\n",
      "\u001B[2K   \u001B[90m━━━━━━━━━━━━━━━━━━━━━━━━━━━━━━━━━━━━━━━━\u001B[0m \u001B[32m313.4/313.4 kB\u001B[0m \u001B[31m3.2 MB/s\u001B[0m eta \u001B[36m0:00:00\u001B[0ma \u001B[36m0:00:01\u001B[0m\r\n",
      "\u001B[?25hDownloading lazy_loader-0.3-py3-none-any.whl (9.1 kB)\r\n",
      "Downloading PyWavelets-1.4.1-cp38-cp38-manylinux_2_17_x86_64.manylinux2014_x86_64.whl (6.9 MB)\r\n",
      "\u001B[2K   \u001B[90m━━━━━━━━━━━━━━━━━━━━━━━━━━━━━━━━━━━━━━━━\u001B[0m \u001B[32m6.9/6.9 MB\u001B[0m \u001B[31m3.8 MB/s\u001B[0m eta \u001B[36m0:00:00\u001B[0m00:01\u001B[0m00:01\u001B[0m\r\n",
      "\u001B[?25hDownloading tifffile-2023.7.10-py3-none-any.whl (220 kB)\r\n",
      "\u001B[2K   \u001B[90m━━━━━━━━━━━━━━━━━━━━━━━━━━━━━━━━━━━━━━━━\u001B[0m \u001B[32m220.9/220.9 kB\u001B[0m \u001B[31m3.7 MB/s\u001B[0m eta \u001B[36m0:00:00\u001B[0ma \u001B[36m0:00:01\u001B[0m\r\n",
      "\u001B[?25hInstalling collected packages: pyclipper, ninja, tifffile, Shapely, PyWavelets, python-bidi, opencv-python-headless, lazy_loader, imageio, scikit-image, easyocr\r\n",
      "Successfully installed PyWavelets-1.4.1 Shapely-2.0.3 easyocr-1.7.1 imageio-2.34.0 lazy_loader-0.3 ninja-1.11.1.1 opencv-python-headless-4.9.0.80 pyclipper-1.3.0.post5 python-bidi-0.4.2 scikit-image-0.21.0 tifffile-2023.7.10\r\n"
     ]
    }
   ],
   "source": [
    "!pip install easyocr"
   ],
   "metadata": {
    "collapsed": false,
    "ExecuteTime": {
     "end_time": "2024-02-29T20:01:48.185060411Z",
     "start_time": "2024-02-29T20:01:00.204349795Z"
    }
   },
   "id": "ba455b8335deca15",
   "execution_count": 1
  },
  {
   "cell_type": "code",
   "outputs": [],
   "source": [
    "import easyocr"
   ],
   "metadata": {
    "collapsed": false,
    "ExecuteTime": {
     "end_time": "2024-02-29T20:03:12.956744982Z",
     "start_time": "2024-02-29T20:03:01.024435800Z"
    }
   },
   "id": "bf1a5ce0f26ef7c9",
   "execution_count": 2
  },
  {
   "cell_type": "code",
   "outputs": [],
   "source": [
    "def text_recognition(file_path):\n",
    "    reader = easyocr.Reader([\"en\"])\n",
    "    result = reader.readtext(file_path, detail=0, paragraph=True)\n",
    "\n",
    "    print(result)"
   ],
   "metadata": {
    "collapsed": false,
    "ExecuteTime": {
     "end_time": "2024-02-29T20:03:18.866372202Z",
     "start_time": "2024-02-29T20:03:18.816054946Z"
    }
   },
   "id": "4280d49aa6ed97b3",
   "execution_count": 3
  },
  {
   "cell_type": "code",
   "outputs": [
    {
     "name": "stdout",
     "output_type": "stream",
     "text": [
      "Ultralytics YOLOv8.0.196 🚀 Python-3.8.18 torch-2.2.1+cu121 CPU (AMD Ryzen 5 3500U with Radeon Vega Mobile Gfx)\r\n",
      "Model summary (fused): 168 layers, 11125971 parameters, 0 gradients, 28.4 GFLOPs\r\n",
      "\r\n"
     ]
    }
   ],
   "source": [
    "!yolo task=detect mode=predict model=/home/dushn1la/DataspellProjects/yolo/runs/detect/train/weights/best.pt source='1.jpeg' save_crop\n"
   ],
   "metadata": {
    "collapsed": false,
    "is_executing": true,
    "ExecuteTime": {
     "start_time": "2024-02-29T20:21:05.137387105Z"
    }
   },
   "id": "6d8aeb348ceb1347",
   "execution_count": null
  },
  {
   "cell_type": "code",
   "outputs": [],
   "source": [
    "text_recognition('./runs/detect/predict4/crops/vin/1.jpeg')"
   ],
   "metadata": {
    "collapsed": false,
    "is_executing": true
   },
   "id": "90b2502e70ec9077",
   "execution_count": null
  },
  {
   "cell_type": "code",
   "outputs": [],
   "source": [],
   "metadata": {
    "collapsed": false
   },
   "id": "32a9c096eda58626"
  }
 ],
 "metadata": {
  "kernelspec": {
   "display_name": "Python 3",
   "language": "python",
   "name": "python3"
  },
  "language_info": {
   "codemirror_mode": {
    "name": "ipython",
    "version": 2
   },
   "file_extension": ".py",
   "mimetype": "text/x-python",
   "name": "python",
   "nbconvert_exporter": "python",
   "pygments_lexer": "ipython2",
   "version": "2.7.6"
  }
 },
 "nbformat": 4,
 "nbformat_minor": 5
}
