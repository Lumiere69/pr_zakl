{
 "cells": [
  {
   "cell_type": "code",
   "outputs": [
    {
     "ename": "ModuleNotFoundError",
     "evalue": "No module named 'ultralytics'",
     "output_type": "error",
     "traceback": [
      "\u001B[0;31m---------------------------------------------------------------------------\u001B[0m",
      "\u001B[0;31mModuleNotFoundError\u001B[0m                       Traceback (most recent call last)",
      "Cell \u001B[0;32mIn[3], line 5\u001B[0m\n\u001B[1;32m      3\u001B[0m \u001B[38;5;28;01mfrom\u001B[39;00m \u001B[38;5;21;01mIPython\u001B[39;00m \u001B[38;5;28;01mimport\u001B[39;00m display\n\u001B[1;32m      4\u001B[0m display\u001B[38;5;241m.\u001B[39mclear_output()\n\u001B[0;32m----> 5\u001B[0m \u001B[38;5;28;01mimport\u001B[39;00m \u001B[38;5;21;01multralytics\u001B[39;00m\n\u001B[1;32m      6\u001B[0m ultralytics\u001B[38;5;241m.\u001B[39mchecks()\n",
      "\u001B[0;31mModuleNotFoundError\u001B[0m: No module named 'ultralytics'"
     ]
    }
   ],
   "source": [
    "# Pip install method (recommended)\n",
    "!pip install ultralytics==8.0.196\n"
   ],
   "metadata": {
    "collapsed": false
   },
   "id": "68f51e3c8ebbc992",
   "execution_count": 3
  },
  {
   "cell_type": "code",
   "outputs": [
    {
     "name": "stdout",
     "output_type": "stream",
     "text": [
      "Collecting ultralytics==8.0.196\r\n",
      "  Using cached ultralytics-8.0.196-py3-none-any.whl.metadata (31 kB)\r\n",
      "Collecting matplotlib>=3.3.0 (from ultralytics==8.0.196)\r\n",
      "  Using cached matplotlib-3.7.5-cp38-cp38-manylinux_2_12_x86_64.manylinux2010_x86_64.whl.metadata (5.7 kB)\r\n",
      "Collecting numpy>=1.22.2 (from ultralytics==8.0.196)\r\n",
      "  Using cached numpy-1.24.4-cp38-cp38-manylinux_2_17_x86_64.manylinux2014_x86_64.whl.metadata (5.6 kB)\r\n",
      "Collecting opencv-python>=4.6.0 (from ultralytics==8.0.196)\r\n",
      "  Using cached opencv_python-4.9.0.80-cp37-abi3-manylinux_2_17_x86_64.manylinux2014_x86_64.whl.metadata (20 kB)\r\n",
      "Collecting pillow>=7.1.2 (from ultralytics==8.0.196)\r\n",
      "  Using cached pillow-10.2.0-cp38-cp38-manylinux_2_28_x86_64.whl.metadata (9.7 kB)\r\n",
      "Requirement already satisfied: pyyaml>=5.3.1 in /home/dushn1la/anaconda3/envs/yolo/lib/python3.8/site-packages (from ultralytics==8.0.196) (6.0.1)\r\n",
      "Requirement already satisfied: requests>=2.23.0 in /home/dushn1la/anaconda3/envs/yolo/lib/python3.8/site-packages (from ultralytics==8.0.196) (2.31.0)\r\n",
      "Collecting scipy>=1.4.1 (from ultralytics==8.0.196)\r\n",
      "  Using cached scipy-1.10.1-cp38-cp38-manylinux_2_17_x86_64.manylinux2014_x86_64.whl.metadata (58 kB)\r\n",
      "Collecting torch>=1.8.0 (from ultralytics==8.0.196)\r\n",
      "  Using cached torch-2.2.1-cp38-cp38-manylinux1_x86_64.whl.metadata (25 kB)\r\n",
      "Collecting torchvision>=0.9.0 (from ultralytics==8.0.196)\r\n",
      "  Using cached torchvision-0.17.1-cp38-cp38-manylinux1_x86_64.whl.metadata (6.6 kB)\r\n",
      "Collecting tqdm>=4.64.0 (from ultralytics==8.0.196)\r\n",
      "  Using cached tqdm-4.66.2-py3-none-any.whl.metadata (57 kB)\r\n",
      "Collecting pandas>=1.1.4 (from ultralytics==8.0.196)\r\n",
      "  Using cached pandas-2.0.3-cp38-cp38-manylinux_2_17_x86_64.manylinux2014_x86_64.whl.metadata (18 kB)\r\n",
      "Collecting seaborn>=0.11.0 (from ultralytics==8.0.196)\r\n",
      "  Using cached seaborn-0.13.2-py3-none-any.whl.metadata (5.4 kB)\r\n",
      "Requirement already satisfied: psutil in /home/dushn1la/anaconda3/envs/yolo/lib/python3.8/site-packages (from ultralytics==8.0.196) (5.9.0)\r\n",
      "Collecting py-cpuinfo (from ultralytics==8.0.196)\r\n",
      "  Using cached py_cpuinfo-9.0.0-py3-none-any.whl.metadata (794 bytes)\r\n",
      "Collecting thop>=0.1.1 (from ultralytics==8.0.196)\r\n",
      "  Using cached thop-0.1.1.post2209072238-py3-none-any.whl.metadata (2.7 kB)\r\n",
      "Collecting contourpy>=1.0.1 (from matplotlib>=3.3.0->ultralytics==8.0.196)\r\n",
      "  Using cached contourpy-1.1.1-cp38-cp38-manylinux_2_17_x86_64.manylinux2014_x86_64.whl.metadata (5.9 kB)\r\n",
      "Collecting cycler>=0.10 (from matplotlib>=3.3.0->ultralytics==8.0.196)\r\n",
      "  Using cached cycler-0.12.1-py3-none-any.whl.metadata (3.8 kB)\r\n",
      "Collecting fonttools>=4.22.0 (from matplotlib>=3.3.0->ultralytics==8.0.196)\r\n",
      "  Using cached fonttools-4.49.0-cp38-cp38-manylinux_2_17_x86_64.manylinux2014_x86_64.whl.metadata (159 kB)\r\n",
      "Collecting kiwisolver>=1.0.1 (from matplotlib>=3.3.0->ultralytics==8.0.196)\r\n",
      "  Using cached kiwisolver-1.4.5-cp38-cp38-manylinux_2_5_x86_64.manylinux1_x86_64.whl.metadata (6.4 kB)\r\n",
      "Requirement already satisfied: packaging>=20.0 in /home/dushn1la/anaconda3/envs/yolo/lib/python3.8/site-packages (from matplotlib>=3.3.0->ultralytics==8.0.196) (23.1)\r\n",
      "Collecting pyparsing>=2.3.1 (from matplotlib>=3.3.0->ultralytics==8.0.196)\r\n",
      "  Using cached pyparsing-3.1.1-py3-none-any.whl.metadata (5.1 kB)\r\n",
      "Requirement already satisfied: python-dateutil>=2.7 in /home/dushn1la/anaconda3/envs/yolo/lib/python3.8/site-packages (from matplotlib>=3.3.0->ultralytics==8.0.196) (2.8.2)\r\n",
      "Requirement already satisfied: importlib-resources>=3.2.0 in /home/dushn1la/anaconda3/envs/yolo/lib/python3.8/site-packages (from matplotlib>=3.3.0->ultralytics==8.0.196) (6.1.1)\r\n",
      "Requirement already satisfied: pytz>=2020.1 in /home/dushn1la/anaconda3/envs/yolo/lib/python3.8/site-packages (from pandas>=1.1.4->ultralytics==8.0.196) (2023.3.post1)\r\n",
      "Collecting tzdata>=2022.1 (from pandas>=1.1.4->ultralytics==8.0.196)\r\n",
      "  Using cached tzdata-2024.1-py2.py3-none-any.whl.metadata (1.4 kB)\r\n",
      "Requirement already satisfied: charset-normalizer<4,>=2 in /home/dushn1la/anaconda3/envs/yolo/lib/python3.8/site-packages (from requests>=2.23.0->ultralytics==8.0.196) (2.0.4)\r\n",
      "Requirement already satisfied: idna<4,>=2.5 in /home/dushn1la/anaconda3/envs/yolo/lib/python3.8/site-packages (from requests>=2.23.0->ultralytics==8.0.196) (3.4)\r\n",
      "Requirement already satisfied: urllib3<3,>=1.21.1 in /home/dushn1la/anaconda3/envs/yolo/lib/python3.8/site-packages (from requests>=2.23.0->ultralytics==8.0.196) (2.1.0)\r\n",
      "Requirement already satisfied: certifi>=2017.4.17 in /home/dushn1la/anaconda3/envs/yolo/lib/python3.8/site-packages (from requests>=2.23.0->ultralytics==8.0.196) (2024.2.2)\r\n",
      "Collecting filelock (from torch>=1.8.0->ultralytics==8.0.196)\r\n",
      "  Using cached filelock-3.13.1-py3-none-any.whl.metadata (2.8 kB)\r\n",
      "Requirement already satisfied: typing-extensions>=4.8.0 in /home/dushn1la/anaconda3/envs/yolo/lib/python3.8/site-packages (from torch>=1.8.0->ultralytics==8.0.196) (4.9.0)\r\n",
      "Collecting sympy (from torch>=1.8.0->ultralytics==8.0.196)\r\n",
      "  Using cached sympy-1.12-py3-none-any.whl.metadata (12 kB)\r\n",
      "Collecting networkx (from torch>=1.8.0->ultralytics==8.0.196)\r\n",
      "  Using cached networkx-3.1-py3-none-any.whl.metadata (5.3 kB)\r\n",
      "Requirement already satisfied: jinja2 in /home/dushn1la/anaconda3/envs/yolo/lib/python3.8/site-packages (from torch>=1.8.0->ultralytics==8.0.196) (3.1.3)\r\n",
      "Collecting fsspec (from torch>=1.8.0->ultralytics==8.0.196)\r\n",
      "  Using cached fsspec-2024.2.0-py3-none-any.whl.metadata (6.8 kB)\r\n",
      "Collecting nvidia-cuda-nvrtc-cu12==12.1.105 (from torch>=1.8.0->ultralytics==8.0.196)\r\n",
      "  Using cached nvidia_cuda_nvrtc_cu12-12.1.105-py3-none-manylinux1_x86_64.whl.metadata (1.5 kB)\r\n",
      "Collecting nvidia-cuda-runtime-cu12==12.1.105 (from torch>=1.8.0->ultralytics==8.0.196)\r\n",
      "  Using cached nvidia_cuda_runtime_cu12-12.1.105-py3-none-manylinux1_x86_64.whl.metadata (1.5 kB)\r\n",
      "Collecting nvidia-cuda-cupti-cu12==12.1.105 (from torch>=1.8.0->ultralytics==8.0.196)\r\n",
      "  Using cached nvidia_cuda_cupti_cu12-12.1.105-py3-none-manylinux1_x86_64.whl.metadata (1.6 kB)\r\n",
      "Collecting nvidia-cudnn-cu12==8.9.2.26 (from torch>=1.8.0->ultralytics==8.0.196)\r\n",
      "  Using cached nvidia_cudnn_cu12-8.9.2.26-py3-none-manylinux1_x86_64.whl.metadata (1.6 kB)\r\n",
      "Collecting nvidia-cublas-cu12==12.1.3.1 (from torch>=1.8.0->ultralytics==8.0.196)\r\n",
      "  Using cached nvidia_cublas_cu12-12.1.3.1-py3-none-manylinux1_x86_64.whl.metadata (1.5 kB)\r\n",
      "Collecting nvidia-cufft-cu12==11.0.2.54 (from torch>=1.8.0->ultralytics==8.0.196)\r\n",
      "  Using cached nvidia_cufft_cu12-11.0.2.54-py3-none-manylinux1_x86_64.whl.metadata (1.5 kB)\r\n",
      "Collecting nvidia-curand-cu12==10.3.2.106 (from torch>=1.8.0->ultralytics==8.0.196)\r\n",
      "  Using cached nvidia_curand_cu12-10.3.2.106-py3-none-manylinux1_x86_64.whl.metadata (1.5 kB)\r\n",
      "Collecting nvidia-cusolver-cu12==11.4.5.107 (from torch>=1.8.0->ultralytics==8.0.196)\r\n",
      "  Using cached nvidia_cusolver_cu12-11.4.5.107-py3-none-manylinux1_x86_64.whl.metadata (1.6 kB)\r\n",
      "Collecting nvidia-cusparse-cu12==12.1.0.106 (from torch>=1.8.0->ultralytics==8.0.196)\r\n",
      "  Using cached nvidia_cusparse_cu12-12.1.0.106-py3-none-manylinux1_x86_64.whl.metadata (1.6 kB)\r\n",
      "Collecting nvidia-nccl-cu12==2.19.3 (from torch>=1.8.0->ultralytics==8.0.196)\r\n",
      "  Using cached nvidia_nccl_cu12-2.19.3-py3-none-manylinux1_x86_64.whl.metadata (1.8 kB)\r\n",
      "Collecting nvidia-nvtx-cu12==12.1.105 (from torch>=1.8.0->ultralytics==8.0.196)\r\n",
      "  Using cached nvidia_nvtx_cu12-12.1.105-py3-none-manylinux1_x86_64.whl.metadata (1.7 kB)\r\n",
      "Collecting triton==2.2.0 (from torch>=1.8.0->ultralytics==8.0.196)\r\n",
      "  Using cached triton-2.2.0-cp38-cp38-manylinux_2_17_x86_64.manylinux2014_x86_64.whl.metadata (1.4 kB)\r\n",
      "Collecting nvidia-nvjitlink-cu12 (from nvidia-cusolver-cu12==11.4.5.107->torch>=1.8.0->ultralytics==8.0.196)\r\n",
      "  Using cached nvidia_nvjitlink_cu12-12.3.101-py3-none-manylinux1_x86_64.whl.metadata (1.5 kB)\r\n",
      "Requirement already satisfied: zipp>=3.1.0 in /home/dushn1la/anaconda3/envs/yolo/lib/python3.8/site-packages (from importlib-resources>=3.2.0->matplotlib>=3.3.0->ultralytics==8.0.196) (3.17.0)\r\n",
      "Requirement already satisfied: six>=1.5 in /home/dushn1la/anaconda3/envs/yolo/lib/python3.8/site-packages (from python-dateutil>=2.7->matplotlib>=3.3.0->ultralytics==8.0.196) (1.16.0)\r\n",
      "Requirement already satisfied: MarkupSafe>=2.0 in /home/dushn1la/anaconda3/envs/yolo/lib/python3.8/site-packages (from jinja2->torch>=1.8.0->ultralytics==8.0.196) (2.1.3)\r\n",
      "Collecting mpmath>=0.19 (from sympy->torch>=1.8.0->ultralytics==8.0.196)\r\n",
      "  Using cached mpmath-1.3.0-py3-none-any.whl.metadata (8.6 kB)\r\n",
      "Using cached ultralytics-8.0.196-py3-none-any.whl (631 kB)\r\n",
      "Using cached matplotlib-3.7.5-cp38-cp38-manylinux_2_12_x86_64.manylinux2010_x86_64.whl (9.2 MB)\r\n",
      "Using cached numpy-1.24.4-cp38-cp38-manylinux_2_17_x86_64.manylinux2014_x86_64.whl (17.3 MB)\r\n",
      "Using cached opencv_python-4.9.0.80-cp37-abi3-manylinux_2_17_x86_64.manylinux2014_x86_64.whl (62.2 MB)\r\n",
      "Using cached pandas-2.0.3-cp38-cp38-manylinux_2_17_x86_64.manylinux2014_x86_64.whl (12.4 MB)\r\n",
      "Using cached pillow-10.2.0-cp38-cp38-manylinux_2_28_x86_64.whl (4.5 MB)\r\n",
      "Using cached scipy-1.10.1-cp38-cp38-manylinux_2_17_x86_64.manylinux2014_x86_64.whl (34.5 MB)\r\n",
      "Using cached seaborn-0.13.2-py3-none-any.whl (294 kB)\r\n",
      "Using cached thop-0.1.1.post2209072238-py3-none-any.whl (15 kB)\r\n",
      "Using cached torch-2.2.1-cp38-cp38-manylinux1_x86_64.whl (755.5 MB)\r\n",
      "Using cached nvidia_cublas_cu12-12.1.3.1-py3-none-manylinux1_x86_64.whl (410.6 MB)\r\n",
      "Using cached nvidia_cuda_cupti_cu12-12.1.105-py3-none-manylinux1_x86_64.whl (14.1 MB)\r\n",
      "Using cached nvidia_cuda_nvrtc_cu12-12.1.105-py3-none-manylinux1_x86_64.whl (23.7 MB)\r\n",
      "Using cached nvidia_cuda_runtime_cu12-12.1.105-py3-none-manylinux1_x86_64.whl (823 kB)\r\n",
      "Downloading nvidia_cudnn_cu12-8.9.2.26-py3-none-manylinux1_x86_64.whl (731.7 MB)\r\n",
      "\u001B[2K   \u001B[90m━━━━━━━━━━━━━━━━━━━━━━━━━━━━━━━━━━━━━━━\u001B[0m \u001B[32m731.7/731.7 MB\u001B[0m \u001B[31m331.1 kB/s\u001B[0m eta \u001B[36m0:00:00\u001B[0m00:01\u001B[0m00:24\u001B[0m\r\n",
      "\u001B[?25hDownloading nvidia_cufft_cu12-11.0.2.54-py3-none-manylinux1_x86_64.whl (121.6 MB)\r\n",
      "\u001B[2K   \u001B[90m━━━━━━━━━━━━━━━━━━━━━━━━━━━━━━━━━━━━━━━\u001B[0m \u001B[32m121.6/121.6 MB\u001B[0m \u001B[31m764.6 kB/s\u001B[0m eta \u001B[36m0:00:00\u001B[0m00:01\u001B[0m00:06\u001B[0m\r\n",
      "\u001B[?25hDownloading nvidia_curand_cu12-10.3.2.106-py3-none-manylinux1_x86_64.whl (56.5 MB)\r\n",
      "\u001B[2K   \u001B[90m━━━━━━━━━━━━━━━━━━━━━━━━━━━━━━━━━━━━━━━━\u001B[0m \u001B[32m56.5/56.5 MB\u001B[0m \u001B[31m2.1 MB/s\u001B[0m eta \u001B[36m0:00:00\u001B[0m00:01\u001B[0m00:01\u001B[0m\r\n",
      "\u001B[?25hDownloading nvidia_cusolver_cu12-11.4.5.107-py3-none-manylinux1_x86_64.whl (124.2 MB)\r\n",
      "\u001B[2K   \u001B[90m━━━━━━━━━━━━━━━━━━━━━━━━━━━━━━━━━━━━━━━\u001B[0m \u001B[32m124.2/124.2 MB\u001B[0m \u001B[31m908.7 kB/s\u001B[0m eta \u001B[36m0:00:00\u001B[0m00:01\u001B[0m00:04\u001B[0m\r\n",
      "\u001B[?25hDownloading nvidia_cusparse_cu12-12.1.0.106-py3-none-manylinux1_x86_64.whl (196.0 MB)\r\n",
      "\u001B[2K   \u001B[90m━━━━━━━━━━━━━━━━━━━━━━━━━━━━━━━━━━━━━━━\u001B[0m \u001B[32m196.0/196.0 MB\u001B[0m \u001B[31m826.7 kB/s\u001B[0m eta \u001B[36m0:00:00\u001B[0m00:01\u001B[0m00:08\u001B[0m\r\n",
      "\u001B[?25hDownloading nvidia_nccl_cu12-2.19.3-py3-none-manylinux1_x86_64.whl (166.0 MB)\r\n",
      "\u001B[2K   \u001B[90m━━━━━━━━━━━━━━━━━━━━━━━━━━━━━━━━━━━━━━━━\u001B[0m \u001B[32m166.0/166.0 MB\u001B[0m \u001B[31m1.3 MB/s\u001B[0m eta \u001B[36m0:00:00\u001B[0m00:01\u001B[0m00:04\u001B[0mm\r\n",
      "\u001B[?25hDownloading nvidia_nvtx_cu12-12.1.105-py3-none-manylinux1_x86_64.whl (99 kB)\r\n",
      "\u001B[2K   \u001B[90m━━━━━━━━━━━━━━━━━━━━━━━━━━━━━━━━━━━━━━━━\u001B[0m \u001B[32m99.1/99.1 kB\u001B[0m \u001B[31m1.9 MB/s\u001B[0m eta \u001B[36m0:00:00\u001B[0ma \u001B[36m0:00:01\u001B[0m\r\n",
      "\u001B[?25hDownloading triton-2.2.0-cp38-cp38-manylinux_2_17_x86_64.manylinux2014_x86_64.whl (167.9 MB)\r\n",
      "\u001B[2K   \u001B[90m━━━━━━━━━━━━━━━━━━━━━━━━━━━━━━━━━━━━━━━\u001B[0m \u001B[32m167.9/167.9 MB\u001B[0m \u001B[31m753.3 kB/s\u001B[0m eta \u001B[36m0:00:00\u001B[0m00:01\u001B[0m00:07\u001B[0m\r\n",
      "\u001B[?25hDownloading torchvision-0.17.1-cp38-cp38-manylinux1_x86_64.whl (6.9 MB)\r\n",
      "\u001B[2K   \u001B[90m━━━━━━━━━━━━━━━━━━━━━━━━━━━━━━━━━━━━━━━━\u001B[0m \u001B[32m6.9/6.9 MB\u001B[0m \u001B[31m1.0 MB/s\u001B[0m eta \u001B[36m0:00:00\u001B[0m00:01\u001B[0m00:01\u001B[0m0m\r\n",
      "\u001B[?25hDownloading tqdm-4.66.2-py3-none-any.whl (78 kB)\r\n",
      "\u001B[2K   \u001B[90m━━━━━━━━━━━━━━━━━━━━━━━━━━━━━━━━━━━━━━━━\u001B[0m \u001B[32m78.3/78.3 kB\u001B[0m \u001B[31m452.9 kB/s\u001B[0m eta \u001B[36m0:00:00\u001B[0m\u001B[36m0:00:01\u001B[0m\r\n",
      "\u001B[?25hDownloading py_cpuinfo-9.0.0-py3-none-any.whl (22 kB)\r\n",
      "Downloading contourpy-1.1.1-cp38-cp38-manylinux_2_17_x86_64.manylinux2014_x86_64.whl (301 kB)\r\n",
      "\u001B[2K   \u001B[90m━━━━━━━━━━━━━━━━━━━━━━━━━━━━━━━━━━━━━━━━\u001B[0m \u001B[32m301.1/301.1 kB\u001B[0m \u001B[31m1.1 MB/s\u001B[0m eta \u001B[36m0:00:00\u001B[0ma \u001B[36m0:00:01\u001B[0m\r\n",
      "\u001B[?25hDownloading cycler-0.12.1-py3-none-any.whl (8.3 kB)\r\n",
      "Downloading fonttools-4.49.0-cp38-cp38-manylinux_2_17_x86_64.manylinux2014_x86_64.whl (4.7 MB)\r\n",
      "\u001B[2K   \u001B[90m━━━━━━━━━━━━━━━━━━━━━━━━━━━━━━━━━━━━━━━━\u001B[0m \u001B[32m4.7/4.7 MB\u001B[0m \u001B[31m925.4 kB/s\u001B[0m eta \u001B[36m0:00:00\u001B[0m00:01\u001B[0m00:01\u001B[0m\r\n",
      "\u001B[?25hDownloading kiwisolver-1.4.5-cp38-cp38-manylinux_2_5_x86_64.manylinux1_x86_64.whl (1.2 MB)\r\n",
      "\u001B[2K   \u001B[90m━━━━━━━━━━━━━━━━━━━━━━━━━━━━━━━━━━━━━━━━\u001B[0m \u001B[32m1.2/1.2 MB\u001B[0m \u001B[31m1.0 MB/s\u001B[0m eta \u001B[36m0:00:00\u001B[0ma \u001B[36m0:00:01\u001B[0m0m\r\n",
      "\u001B[?25hDownloading pyparsing-3.1.1-py3-none-any.whl (103 kB)\r\n",
      "\u001B[2K   \u001B[90m━━━━━━━━━━━━━━━━━━━━━━━━━━━━━━━━━━━━━━━━\u001B[0m \u001B[32m103.1/103.1 kB\u001B[0m \u001B[31m1.0 MB/s\u001B[0m eta \u001B[36m0:00:00\u001B[0m \u001B[36m0:00:01\u001B[0m\r\n",
      "\u001B[?25hDownloading tzdata-2024.1-py2.py3-none-any.whl (345 kB)\r\n",
      "\u001B[2K   \u001B[90m━━━━━━━━━━━━━━━━━━━━━━━━━━━━━━━━━━━━━━━\u001B[0m \u001B[32m345.4/345.4 kB\u001B[0m \u001B[31m586.7 kB/s\u001B[0m eta \u001B[36m0:00:00\u001B[0m00:01\u001B[0m0:01\u001B[0m\r\n",
      "\u001B[?25hDownloading filelock-3.13.1-py3-none-any.whl (11 kB)\r\n",
      "Downloading fsspec-2024.2.0-py3-none-any.whl (170 kB)\r\n",
      "\u001B[2K   \u001B[90m━━━━━━━━━━━━━━━━━━━━━━━━━━━━━━━━━━━━━━━\u001B[0m \u001B[32m170.9/170.9 kB\u001B[0m \u001B[31m791.3 kB/s\u001B[0m eta \u001B[36m0:00:00\u001B[0ma \u001B[36m0:00:01\u001B[0m\r\n",
      "\u001B[?25hDownloading networkx-3.1-py3-none-any.whl (2.1 MB)\r\n",
      "\u001B[2K   \u001B[90m━━━━━━━━━━━━━━━━━━━━━━━━━━━━━━━━━━━━━━━━\u001B[0m \u001B[32m2.1/2.1 MB\u001B[0m \u001B[31m859.2 kB/s\u001B[0m eta \u001B[36m0:00:00\u001B[0m00:01\u001B[0m00:01\u001B[0m\r\n",
      "\u001B[?25hDownloading sympy-1.12-py3-none-any.whl (5.7 MB)\r\n",
      "\u001B[2K   \u001B[90m━━━━━━━━━━━━━━━━━━━━━━━━━━━━━━━━━━━━━━━━\u001B[0m \u001B[32m5.7/5.7 MB\u001B[0m \u001B[31m903.3 kB/s\u001B[0m eta \u001B[36m0:00:00\u001B[0m00:01\u001B[0m00:01\u001B[0m\r\n",
      "\u001B[?25hDownloading mpmath-1.3.0-py3-none-any.whl (536 kB)\r\n",
      "\u001B[2K   \u001B[90m━━━━━━━━━━━━━━━━━━━━━━━━━━━━━━━━━━━━━━━\u001B[0m \u001B[32m536.2/536.2 kB\u001B[0m \u001B[31m794.0 kB/s\u001B[0m eta \u001B[36m0:00:00\u001B[0m00:01\u001B[0m00:01\u001B[0m\r\n",
      "\u001B[?25hDownloading nvidia_nvjitlink_cu12-12.3.101-py3-none-manylinux1_x86_64.whl (20.5 MB)\r\n",
      "\u001B[2K   \u001B[90m━━━━━━━━━━━━━━━━━━━━━━━━━━━━━━━━━━━━━━━━\u001B[0m \u001B[32m20.5/20.5 MB\u001B[0m \u001B[31m1.3 MB/s\u001B[0m eta \u001B[36m0:00:00\u001B[0m00:01\u001B[0m00:01\u001B[0mm\r\n",
      "\u001B[?25hInstalling collected packages: py-cpuinfo, mpmath, tzdata, tqdm, sympy, pyparsing, pillow, nvidia-nvtx-cu12, nvidia-nvjitlink-cu12, nvidia-nccl-cu12, nvidia-curand-cu12, nvidia-cufft-cu12, nvidia-cuda-runtime-cu12, nvidia-cuda-nvrtc-cu12, nvidia-cuda-cupti-cu12, nvidia-cublas-cu12, numpy, networkx, kiwisolver, fsspec, fonttools, filelock, cycler, triton, scipy, pandas, opencv-python, nvidia-cusparse-cu12, nvidia-cudnn-cu12, contourpy, nvidia-cusolver-cu12, matplotlib, torch, seaborn, torchvision, thop, ultralytics\r\n",
      "Successfully installed contourpy-1.1.1 cycler-0.12.1 filelock-3.13.1 fonttools-4.49.0 fsspec-2024.2.0 kiwisolver-1.4.5 matplotlib-3.7.5 mpmath-1.3.0 networkx-3.1 numpy-1.24.4 nvidia-cublas-cu12-12.1.3.1 nvidia-cuda-cupti-cu12-12.1.105 nvidia-cuda-nvrtc-cu12-12.1.105 nvidia-cuda-runtime-cu12-12.1.105 nvidia-cudnn-cu12-8.9.2.26 nvidia-cufft-cu12-11.0.2.54 nvidia-curand-cu12-10.3.2.106 nvidia-cusolver-cu12-11.4.5.107 nvidia-cusparse-cu12-12.1.0.106 nvidia-nccl-cu12-2.19.3 nvidia-nvjitlink-cu12-12.3.101 nvidia-nvtx-cu12-12.1.105 opencv-python-4.9.0.80 pandas-2.0.3 pillow-10.2.0 py-cpuinfo-9.0.0 pyparsing-3.1.1 scipy-1.10.1 seaborn-0.13.2 sympy-1.12 thop-0.1.1.post2209072238 torch-2.2.1 torchvision-0.17.1 tqdm-4.66.2 triton-2.2.0 tzdata-2024.1 ultralytics-8.0.196\r\n"
     ]
    }
   ],
   "source": [
    "!pip install ultralytics==8.0.196\n"
   ],
   "metadata": {
    "collapsed": false,
    "ExecuteTime": {
     "end_time": "2024-02-29T12:54:50.737922356Z",
     "start_time": "2024-02-29T12:27:03.698363925Z"
    }
   },
   "id": "3d37fdae3846c3c8",
   "execution_count": 2
  },
  {
   "cell_type": "code",
   "outputs": [
    {
     "name": "stderr",
     "output_type": "stream",
     "text": [
      "Ultralytics YOLOv8.0.196 🚀 Python-3.8.18 torch-2.2.1+cu121 CPU (AMD Ryzen 5 3500U with Radeon Vega Mobile Gfx)\n",
      "Setup complete ✅ (8 CPUs, 6.7 GB RAM, 115.7/236.9 GB disk)\n"
     ]
    }
   ],
   "source": [
    "from IPython import display\n",
    "display.clear_output()\n",
    "import ultralytics\n",
    "ultralytics.checks()"
   ],
   "metadata": {
    "collapsed": false
   },
   "id": "759f0b44c5aaa275",
   "execution_count": 3
  },
  {
   "cell_type": "code",
   "outputs": [],
   "source": [
    "from ultralytics import YOLO\n",
    "\n",
    "from IPython.display import display, Image"
   ],
   "metadata": {
    "collapsed": false,
    "ExecuteTime": {
     "end_time": "2024-02-29T12:55:23.418158585Z",
     "start_time": "2024-02-29T12:55:23.407337144Z"
    }
   },
   "id": "e8d3914fd214e521",
   "execution_count": 5
  },
  {
   "cell_type": "code",
   "execution_count": 13,
   "id": "initial_id",
   "metadata": {
    "collapsed": true,
    "ExecuteTime": {
     "end_time": "2024-02-29T13:19:27.541144494Z",
     "start_time": "2024-02-29T13:19:21.497597094Z"
    }
   },
   "outputs": [
    {
     "name": "stdout",
     "output_type": "stream",
     "text": [
      "Ultralytics YOLOv8.0.196 🚀 Python-3.8.18 torch-2.2.1+cu121 CPU (AMD Ryzen 5 3500U with Radeon Vega Mobile Gfx)\r\n",
      "Model summary (fused): 168 layers, 11125971 parameters, 0 gradients, 28.4 GFLOPs\r\n",
      "\r\n",
      "image 1/1 /home/dushn1la/DataspellProjects/yolo/Vin detection.v7i.yolov8/test/images/image_1444_jpg.rf.7521d2202c73052e081130159b0549bb.jpg: 800x800 1 vin, 616.4ms\r\n",
      "Speed: 9.3ms preprocess, 616.4ms inference, 1.3ms postprocess per image at shape (1, 3, 800, 800)\r\n",
      "Results saved to \u001B[1mruns/detect/predict2\u001B[0m\r\n",
      "💡 Learn more at https://docs.ultralytics.com/modes/predict\r\n"
     ]
    }
   ],
   "source": [
    "!yolo task=detect mode=predict model=/home/dushn1la/DataspellProjects/yolo/runs/detect/train/weights/best.pt source='/home/dushn1la/DataspellProjects/yolo/Vin detection.v7i.yolov8/test/images/image_1444_jpg.rf.7521d2202c73052e081130159b0549bb.jpg' save_crop\n"
   ]
  },
  {
   "cell_type": "code",
   "outputs": [
    {
     "name": "stderr",
     "output_type": "stream",
     "text": [
      "\n",
      "image 1/1 /home/dushn1la/DataspellProjects/yolo/Vin detection.v7i.yolov8/test/images/image_1444_jpg.rf.7521d2202c73052e081130159b0549bb.jpg: 800x800 1 vin, 609.6ms\n",
      "Speed: 7.0ms preprocess, 609.6ms inference, 1.6ms postprocess per image at shape (1, 3, 800, 800)\n"
     ]
    },
    {
     "ename": "TypeError",
     "evalue": "'NoneType' object is not subscriptable",
     "output_type": "error",
     "traceback": [
      "\u001B[0;31m---------------------------------------------------------------------------\u001B[0m",
      "\u001B[0;31mTypeError\u001B[0m                                 Traceback (most recent call last)",
      "Cell \u001B[0;32mIn[11], line 21\u001B[0m\n\u001B[1;32m     19\u001B[0m x1, y1, x2, y2 \u001B[38;5;241m=\u001B[39m box\n\u001B[1;32m     20\u001B[0m \u001B[38;5;66;03m# Crop the object using the bounding box coordinates\u001B[39;00m\n\u001B[0;32m---> 21\u001B[0m ultralytics_crop_object \u001B[38;5;241m=\u001B[39m \u001B[43mimg\u001B[49m\u001B[43m[\u001B[49m\u001B[38;5;28;43mint\u001B[39;49m\u001B[43m(\u001B[49m\u001B[43my1\u001B[49m\u001B[43m)\u001B[49m\u001B[43m:\u001B[49m\u001B[38;5;28;43mint\u001B[39;49m\u001B[43m(\u001B[49m\u001B[43my2\u001B[49m\u001B[43m)\u001B[49m\u001B[43m,\u001B[49m\u001B[43m \u001B[49m\u001B[38;5;28;43mint\u001B[39;49m\u001B[43m(\u001B[49m\u001B[43mx1\u001B[49m\u001B[43m)\u001B[49m\u001B[43m:\u001B[49m\u001B[38;5;28;43mint\u001B[39;49m\u001B[43m(\u001B[49m\u001B[43mx2\u001B[49m\u001B[43m)\u001B[49m\u001B[43m]\u001B[49m\n\u001B[1;32m     22\u001B[0m \u001B[38;5;66;03m# Save the cropped object as an image\u001B[39;00m\n\u001B[1;32m     23\u001B[0m cv2\u001B[38;5;241m.\u001B[39mimwrite(\u001B[38;5;124m'\u001B[39m\u001B[38;5;124multralytics_crop_\u001B[39m\u001B[38;5;124m'\u001B[39m \u001B[38;5;241m+\u001B[39m \u001B[38;5;28mstr\u001B[39m(i) \u001B[38;5;241m+\u001B[39m \u001B[38;5;124m'\u001B[39m\u001B[38;5;124m.jpg\u001B[39m\u001B[38;5;124m'\u001B[39m, ultralytics_crop_object)\n",
      "\u001B[0;31mTypeError\u001B[0m: 'NoneType' object is not subscriptable"
     ]
    }
   ],
   "source": [
    "from ultralytics import YOLO\n",
    "import cv2\n",
    "\n",
    "# Load the YOLOv8 model\n",
    "model = YOLO('/home/dushn1la/DataspellProjects/yolo/runs/detect/train/weights/best.pt')\n",
    "\n",
    "# Perform inference on an image\n",
    "results = model('/home/dushn1la/DataspellProjects/yolo/Vin detection.v7i.yolov8/test/images/image_1444_jpg.rf.7521d2202c73052e081130159b0549bb.jpg')\n",
    "\n",
    "# # Load the original image\n",
    "# image = \"image_1444_jpg.rf.7521d2202c73052e081130159b0549bb.jpg\"\n",
    "img = cv2.imread(image)\n",
    "\n",
    "# Extract bounding boxes\n",
    "boxes = results[0].boxes.xyxy.tolist()\n",
    "\n",
    "# Iterate through the bounding boxes\n",
    "for i, box in enumerate(boxes):\n",
    "    x1, y1, x2, y2 = box\n",
    "    # Crop the object using the bounding box coordinates\n",
    "    ultralytics_crop_object = img[int(y1):int(y2), int(x1):int(x2)]\n",
    "    # Save the cropped object as an image\n",
    "    cv2.imwrite('ultralytics_crop_' + str(i) + '.jpg', ultralytics_crop_object)\n"
   ],
   "metadata": {
    "collapsed": false,
    "ExecuteTime": {
     "end_time": "2024-02-29T13:15:53.147105250Z",
     "start_time": "2024-02-29T13:15:51.821328414Z"
    }
   },
   "id": "c4ba96d48e7614cc",
   "execution_count": 11
  },
  {
   "cell_type": "code",
   "outputs": [],
   "source": [],
   "metadata": {
    "collapsed": false
   },
   "id": "eefeadf7305ede18"
  }
 ],
 "metadata": {
  "kernelspec": {
   "display_name": "Python 3",
   "language": "python",
   "name": "python3"
  },
  "language_info": {
   "codemirror_mode": {
    "name": "ipython",
    "version": 2
   },
   "file_extension": ".py",
   "mimetype": "text/x-python",
   "name": "python",
   "nbconvert_exporter": "python",
   "pygments_lexer": "ipython2",
   "version": "2.7.6"
  }
 },
 "nbformat": 4,
 "nbformat_minor": 5
}
